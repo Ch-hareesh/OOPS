{
  "nbformat": 4,
  "nbformat_minor": 0,
  "metadata": {
    "colab": {
      "provenance": []
    },
    "kernelspec": {
      "name": "python3",
      "display_name": "Python 3"
    },
    "language_info": {
      "name": "python"
    }
  },
  "cells": [
    {
      "cell_type": "markdown",
      "source": [
        "## THEORY QUESTION"
      ],
      "metadata": {
        "id": "5abTGmLuqHZ9"
      }
    },
    {
      "cell_type": "markdown",
      "metadata": {
        "id": "dd05908f"
      },
      "source": [
        "#### **1. What is Object-Oriented Programming (OOP)**"
      ]
    },
    {
      "cell_type": "markdown",
      "source": [
        "- It is way of programming where we use objects, functions(methods) and attributes(parameters) to store and manipulate data which are inside a class."
      ],
      "metadata": {
        "id": "JiKMzbvxqLb-"
      }
    },
    {
      "cell_type": "markdown",
      "metadata": {
        "id": "6ffd47d5"
      },
      "source": [
        "#### **2. What is a class in OOP**"
      ]
    },
    {
      "cell_type": "markdown",
      "source": [
        "- Class is like a blueprint/templete for every OOPs code for creating an object.\n",
        "- Example : we are different objects in class human being"
      ],
      "metadata": {
        "id": "lcM3DB1BtD3F"
      }
    },
    {
      "cell_type": "markdown",
      "metadata": {
        "id": "1b38db56"
      },
      "source": [
        "#### **3. What is an object in OOP**"
      ]
    },
    {
      "cell_type": "markdown",
      "source": [
        "- Object, also known as instance of a class\n",
        "- It is like a container to store the data according to the class's attributes and methods for different individual thing\n",
        "- For example : There is class with attribues of height and weight, and every object we make are the data of a different person conatining the hieght and wieght of individual person respectively."
      ],
      "metadata": {
        "id": "Jqv6Du9CtfQS"
      }
    },
    {
      "cell_type": "markdown",
      "metadata": {
        "id": "25b8d1ab"
      },
      "source": [
        "#### **4. What is the difference between abstraction and encapsulation**"
      ]
    },
    {
      "cell_type": "markdown",
      "source": [
        "- Abstraction :     \n",
        "    - It is concept of hiding complex implementations , showing only essential information to the users.\n",
        "\n",
        "    - It is first used by importing the library `abc` and then using `@abstractmethod` above the method we want to make abstract.\n",
        "    - Abstract class cannot be instanced\n",
        "    - Abstract class should always be subclassed\n",
        "    - Abstract class may contain methods that are just declared and not implemented in abstract class itself, subclasses are reponsible for implementing.\n",
        "    - It allows you to focus on what an object does rather than how it does it.\n",
        "    - For example, when you drive a car, you interact with the steering wheel, accelerator, and brake (the essential interface) without needing to understand the intricate workings of the engine or transmission (the hidden complexity).\n",
        "\n",
        "\n",
        "\n",
        "---\n",
        "\n",
        "- Encapsulation\n",
        "  - It is also the concept of hiding, but it is done in a different way\n",
        "  - It is done my access modifiers\n",
        "      - Public\n",
        "      - Protected\n",
        "      - private\n",
        "  - These modifiers are defined with the parameters itself in the methods.\n",
        "  - Public access modifier can be accessed from anywhere from outside and inside of the method.\n",
        "  - Protected access modifier can only be accessed inside of the class or subclasses\n",
        "  - Private access modifier cannot be accessed neither inside nor outside the class normally, but there is exception for the developer , he can either create a new method to access it (which is a wrapper) or use `objectname._classname__privatemethodname`"
      ],
      "metadata": {
        "id": "n4H_Ua_SvIuK"
      }
    },
    {
      "cell_type": "markdown",
      "metadata": {
        "id": "4520f15b"
      },
      "source": [
        "#### **5. What are dunder methods in Python**"
      ]
    },
    {
      "cell_type": "markdown",
      "source": [
        "- Dunder method also known as magic/special method.\n",
        "- These are build in class in python.\n",
        "- We define these type of methods for creating custom objects.\n",
        "- Implementing operator overloading in python.\n",
        "- D + under, Double undersocre, all the methods surrounding double underscore is a dunder method."
      ],
      "metadata": {
        "id": "bZ9_QFudPdgJ"
      }
    },
    {
      "cell_type": "markdown",
      "metadata": {
        "id": "f36a4395"
      },
      "source": [
        "#### **6. Explain the concept of inheritance in OOP**"
      ]
    },
    {
      "cell_type": "markdown",
      "source": [
        "- In Inheritance a class can inherit the properties like attributes, methods and etc from it's parent class.\n",
        "- For example given below\n"
      ],
      "metadata": {
        "id": "IH4zVO8cK4Mm"
      }
    },
    {
      "cell_type": "code",
      "source": [
        "class Parent: # Parent class\n",
        "  def parent_method(self):\n",
        "    print(\"This is parent class\")\n",
        "\n",
        "class Child(Parent): # This is child class , inherited properties from parent class called \"Parent\"\n",
        "  def child_method(self):\n",
        "    print(\"Thid is child class\")"
      ],
      "metadata": {
        "id": "RbM2cPrwLH9L"
      },
      "execution_count": 2,
      "outputs": []
    },
    {
      "cell_type": "code",
      "source": [
        "obj1 = Child()\n"
      ],
      "metadata": {
        "id": "pUR-hLZMMAwN"
      },
      "execution_count": 3,
      "outputs": []
    },
    {
      "cell_type": "code",
      "source": [
        "obj1.parent_method() # object of child class and accessed the method of parent class through it"
      ],
      "metadata": {
        "colab": {
          "base_uri": "https://localhost:8080/"
        },
        "id": "oVwsAiiUMH6v",
        "outputId": "9c0898df-6bad-4501-84f0-e95c3596a7f1"
      },
      "execution_count": 5,
      "outputs": [
        {
          "output_type": "stream",
          "name": "stdout",
          "text": [
            "This is parent class\n"
          ]
        }
      ]
    },
    {
      "cell_type": "markdown",
      "source": [
        "- There are 5 types of inheritance\n",
        "    - Single inheritance\n",
        "    - Multilevel inheritance\n",
        "    - Multiple inheritance\n",
        "    - Hierarchical inheritance\n",
        "    - Hybrid inheritance\n"
      ],
      "metadata": {
        "id": "cb4pfL-8Lz_B"
      }
    },
    {
      "cell_type": "markdown",
      "source": [
        "- Single inheritance : The above example is the example of single inheritance where a child class inherits the properties like attributes and methods from parent class\n"
      ],
      "metadata": {
        "id": "PD9dtYJwNPmn"
      }
    },
    {
      "cell_type": "markdown",
      "source": [
        "- Multilevel inheritance : In this multipule of inheritance , after a child class inherits the parent class, an another child class inherits the first child which make it multilevel.\n",
        "- Below example demonstrates this type of inheritance."
      ],
      "metadata": {
        "id": "KTzinyeRNcmw"
      }
    },
    {
      "cell_type": "code",
      "source": [
        "class Parent: # Parent class\n",
        "  def parent_method(self):\n",
        "    print(\"This is parent class\")\n",
        "\n",
        "class Child(Parent): # Child class 1\n",
        "  def child_method(self):\n",
        "    print(\"Thid is child class\")\n",
        "\n",
        "class Child1(Child): # Child class 2 (Grand child)\n",
        "  def grandchild_method(self):\n",
        "    print(\"This is grandchild class\")"
      ],
      "metadata": {
        "id": "JGEWYx8DNMcU"
      },
      "execution_count": 8,
      "outputs": []
    },
    {
      "cell_type": "code",
      "source": [
        "obj2 = Child1()"
      ],
      "metadata": {
        "id": "ViZmT351OSa6"
      },
      "execution_count": 9,
      "outputs": []
    },
    {
      "cell_type": "code",
      "source": [
        "obj2.parent_method()"
      ],
      "metadata": {
        "colab": {
          "base_uri": "https://localhost:8080/"
        },
        "id": "kWobIP6GObcO",
        "outputId": "618c521e-9dad-4070-aa2e-ac098cb8cd62"
      },
      "execution_count": 10,
      "outputs": [
        {
          "output_type": "stream",
          "name": "stdout",
          "text": [
            "This is parent class\n"
          ]
        }
      ]
    },
    {
      "cell_type": "code",
      "source": [
        "obj2.child_method()"
      ],
      "metadata": {
        "colab": {
          "base_uri": "https://localhost:8080/"
        },
        "id": "hTf_CC5XOjZX",
        "outputId": "d6e6d299-14f1-431f-d02c-38858c996d99"
      },
      "execution_count": 11,
      "outputs": [
        {
          "output_type": "stream",
          "name": "stdout",
          "text": [
            "Thid is child class\n"
          ]
        }
      ]
    },
    {
      "cell_type": "code",
      "source": [
        "obj2.grandchild_method()"
      ],
      "metadata": {
        "colab": {
          "base_uri": "https://localhost:8080/"
        },
        "id": "oRV90IBWOmDt",
        "outputId": "a1ed5750-824a-4001-f312-56a3ef4e5760"
      },
      "execution_count": 12,
      "outputs": [
        {
          "output_type": "stream",
          "name": "stdout",
          "text": [
            "This is grandchild class\n"
          ]
        }
      ]
    },
    {
      "cell_type": "markdown",
      "source": [
        "- Multiple inheritance : child inherits multiple parent classes\n",
        "- Below example demonstrates this."
      ],
      "metadata": {
        "id": "EbAWzLp7Oo-M"
      }
    },
    {
      "cell_type": "code",
      "source": [
        "class Parent1: # Parent class 1\n",
        "  def par1_method(self):\n",
        "    print(\"This is parent 1 class\")\n",
        "\n",
        "class Parent2: # Parent class 2\n",
        "  def par2_method(self):\n",
        "    print(\"Thid is parent 2 class\")\n",
        "\n",
        "class Child(Parent1, Parent2): # Child class\n",
        "  def child_method(self):\n",
        "    print(\"This is child class\")"
      ],
      "metadata": {
        "id": "EwYsw45yPDMe"
      },
      "execution_count": 14,
      "outputs": []
    },
    {
      "cell_type": "code",
      "source": [
        "obj3 = Child()"
      ],
      "metadata": {
        "id": "w-HjfV_PPkyy"
      },
      "execution_count": 15,
      "outputs": []
    },
    {
      "cell_type": "code",
      "source": [
        "obj3.par1_method()"
      ],
      "metadata": {
        "colab": {
          "base_uri": "https://localhost:8080/"
        },
        "id": "W5yQgl9GPnau",
        "outputId": "57c14231-a2bb-40b8-edaf-7d569cb8d742"
      },
      "execution_count": 17,
      "outputs": [
        {
          "output_type": "stream",
          "name": "stdout",
          "text": [
            "This is parent 1 class\n"
          ]
        }
      ]
    },
    {
      "cell_type": "code",
      "source": [
        "obj3.par2_method()"
      ],
      "metadata": {
        "colab": {
          "base_uri": "https://localhost:8080/"
        },
        "id": "kFptAcrdPrka",
        "outputId": "5844e226-2189-4b48-a425-965f44a238b6"
      },
      "execution_count": 18,
      "outputs": [
        {
          "output_type": "stream",
          "name": "stdout",
          "text": [
            "Thid is parent 2 class\n"
          ]
        }
      ]
    },
    {
      "cell_type": "code",
      "source": [
        "obj3.child_method()"
      ],
      "metadata": {
        "colab": {
          "base_uri": "https://localhost:8080/"
        },
        "id": "hnLd8rULPuSV",
        "outputId": "28862781-d2c8-4e98-e7bb-0c3879c9d134"
      },
      "execution_count": 19,
      "outputs": [
        {
          "output_type": "stream",
          "name": "stdout",
          "text": [
            "This is child class\n"
          ]
        }
      ]
    },
    {
      "cell_type": "markdown",
      "source": [
        "- Hierarchical inheritance : One parent class , but multiple child class\n",
        "- Below example demonstrates this."
      ],
      "metadata": {
        "id": "sNfw7AzQP057"
      }
    },
    {
      "cell_type": "code",
      "source": [
        "class Parent: # Parent class\n",
        "  def parent_method(self):\n",
        "    print(\"This is parent class\")\n",
        "\n",
        "class Child(Parent): # Child class 1\n",
        "  def child_method(self):\n",
        "    print(\"Thid is child class\")\n",
        "\n",
        "class Child1(Parent): # Child class 2 (Grand child)\n",
        "  def grandchild_method(self):\n",
        "    print(\"This is grandchild class\")"
      ],
      "metadata": {
        "id": "MMoj-9yxQVb-"
      },
      "execution_count": 20,
      "outputs": []
    },
    {
      "cell_type": "code",
      "source": [
        "obj4 = Child()"
      ],
      "metadata": {
        "id": "veXD8CsOQd5W"
      },
      "execution_count": 24,
      "outputs": []
    },
    {
      "cell_type": "code",
      "source": [
        "obj4.parent_method()"
      ],
      "metadata": {
        "colab": {
          "base_uri": "https://localhost:8080/"
        },
        "id": "1e9jKD2hQuo7",
        "outputId": "be6c09e0-3ab9-4ade-b8ed-0ee703f3b277"
      },
      "execution_count": 25,
      "outputs": [
        {
          "output_type": "stream",
          "name": "stdout",
          "text": [
            "This is parent class\n"
          ]
        }
      ]
    },
    {
      "cell_type": "code",
      "source": [
        "obj5 = Child1()"
      ],
      "metadata": {
        "id": "6pAa7TzbQjfi"
      },
      "execution_count": 26,
      "outputs": []
    },
    {
      "cell_type": "code",
      "source": [
        "obj5.parent_method()"
      ],
      "metadata": {
        "colab": {
          "base_uri": "https://localhost:8080/"
        },
        "id": "trWKXSRjQw_Y",
        "outputId": "ff72413d-919f-4256-fe43-e572287ce676"
      },
      "execution_count": 27,
      "outputs": [
        {
          "output_type": "stream",
          "name": "stdout",
          "text": [
            "This is parent class\n"
          ]
        }
      ]
    },
    {
      "cell_type": "markdown",
      "source": [
        "- Hybrid inheritance : It's the combination of all these four types of inheritance."
      ],
      "metadata": {
        "id": "pxKv4TrfQ7SV"
      }
    },
    {
      "cell_type": "markdown",
      "metadata": {
        "id": "cc540ee4"
      },
      "source": [
        "#### **7. What is polymorphism in OOP**"
      ]
    },
    {
      "cell_type": "markdown",
      "source": [
        "- Poly means many and morphism mean forms , i.e multiple forms\n",
        "- It refers to the object taking several froms depending upon methods/data\n",
        "- For example `len()` according to the data (string , list or tuple), It's usale for all these different types of data."
      ],
      "metadata": {
        "id": "5o6k6bqvRKkF"
      }
    },
    {
      "cell_type": "markdown",
      "metadata": {
        "id": "e740870e"
      },
      "source": [
        "#### **8. How is encapsulation achieved in Python**"
      ]
    },
    {
      "cell_type": "markdown",
      "source": [
        "- As there are three types of access modifier to implement encapsulation, the following examples can show how they can be achived."
      ],
      "metadata": {
        "id": "KoBSJraUSB-c"
      }
    },
    {
      "cell_type": "code",
      "source": [
        "# Public access modifier : a normal class\n",
        "class Public:\n",
        "  def __init__(self,name):\n",
        "    self.name = name\n",
        "  def public_method(self):\n",
        "    print(\"This is public method\")"
      ],
      "metadata": {
        "id": "iMDW9l-uSifo"
      },
      "execution_count": 28,
      "outputs": []
    },
    {
      "cell_type": "code",
      "source": [
        "ob1 = Public(\"John\")"
      ],
      "metadata": {
        "id": "c7Od44hpS4Iq"
      },
      "execution_count": 29,
      "outputs": []
    },
    {
      "cell_type": "code",
      "source": [
        "# Every thing is accessable inside/outside the class\n",
        "ob1.public_method()"
      ],
      "metadata": {
        "colab": {
          "base_uri": "https://localhost:8080/"
        },
        "id": "CG0_pXImTlB_",
        "outputId": "9f9826b9-7f41-4923-c8e2-a32ddea33432"
      },
      "execution_count": 32,
      "outputs": [
        {
          "output_type": "stream",
          "name": "stdout",
          "text": [
            "This is public method\n"
          ]
        }
      ]
    },
    {
      "cell_type": "code",
      "source": [
        "# Protected access modifier : It's achived by single underscore before method's name\n",
        "class Protected:\n",
        "  def _protected_method(self):\n",
        "    print(\"This is protected method\")"
      ],
      "metadata": {
        "id": "uUqTwjDUT20m"
      },
      "execution_count": 44,
      "outputs": []
    },
    {
      "cell_type": "markdown",
      "source": [
        "- Note : Well it's intended to made that it shouldn't be accesssed outside the class and only accessable inside the class and subclasses but still it can be technically accessable from outside the class but responsible developers avoid using it oustside the class."
      ],
      "metadata": {
        "id": "EiI6rQyxV4jD"
      }
    },
    {
      "cell_type": "code",
      "source": [
        "ob2 = Protected()"
      ],
      "metadata": {
        "id": "FLhzZN30UR2N"
      },
      "execution_count": 35,
      "outputs": []
    },
    {
      "cell_type": "code",
      "source": [
        "ob2._protected_method()"
      ],
      "metadata": {
        "colab": {
          "base_uri": "https://localhost:8080/"
        },
        "id": "5pBleGFqUZAP",
        "outputId": "df56f93c-806f-4f23-8a95-efb070be0949"
      },
      "execution_count": 43,
      "outputs": [
        {
          "output_type": "stream",
          "name": "stdout",
          "text": [
            "This is protected method\n"
          ]
        }
      ]
    },
    {
      "cell_type": "code",
      "source": [
        "# Private Access modifier : double underscore before method's name\n",
        "class person:\n",
        "  def __private_method(self):\n",
        "    print(\"This is private method\")\n",
        "\n",
        "  def access_private_method(self): # wrapper\n",
        "    self.__private_method()"
      ],
      "metadata": {
        "id": "s-iyO6KhWj6e"
      },
      "execution_count": 57,
      "outputs": []
    },
    {
      "cell_type": "code",
      "source": [
        "per = person()"
      ],
      "metadata": {
        "id": "IizsBPH9XDM-"
      },
      "execution_count": 53,
      "outputs": []
    },
    {
      "cell_type": "code",
      "source": [
        "# per.__private_method()\n",
        "# This will show error saying :\n",
        "# AttributeError: 'person' object has no attribute '__private_method'"
      ],
      "metadata": {
        "id": "15X6MKyZXIEk"
      },
      "execution_count": 48,
      "outputs": []
    },
    {
      "cell_type": "markdown",
      "source": [
        "- Note : Private access modifier's specaility is that method's made private cannot be accessed inside/outside the class\n",
        "- But there is exception : It can be accessed by the developer, he can either create a new method to access it (which is a wrapper) or use `objectname._classname__privatemethodname`"
      ],
      "metadata": {
        "id": "yhh25lIBXZq0"
      }
    },
    {
      "cell_type": "code",
      "source": [
        "per.access_private_method()"
      ],
      "metadata": {
        "colab": {
          "base_uri": "https://localhost:8080/"
        },
        "id": "MrOHZev2YKNi",
        "outputId": "d189cccd-3ae0-40c3-b3a6-417286cbc359"
      },
      "execution_count": 55,
      "outputs": [
        {
          "output_type": "stream",
          "name": "stdout",
          "text": [
            "This is private method\n"
          ]
        }
      ]
    },
    {
      "cell_type": "code",
      "source": [
        "per._person__private_method() # objectname._classname__privatemethodname()"
      ],
      "metadata": {
        "colab": {
          "base_uri": "https://localhost:8080/"
        },
        "id": "g5dXoyPhZXPG",
        "outputId": "c104e0e5-c6c8-456b-f0ad-5fd1a98729aa"
      },
      "execution_count": 201,
      "outputs": [
        {
          "output_type": "stream",
          "name": "stdout",
          "text": [
            "This is private method\n"
          ]
        }
      ]
    },
    {
      "cell_type": "markdown",
      "metadata": {
        "id": "7ba619af"
      },
      "source": [
        "#### **9. What is a constructor in Python**"
      ]
    },
    {
      "cell_type": "markdown",
      "source": [
        "- In Python, the constructor is defined using the special method named `__init__`. This method is part of the class definition.\n",
        "- The `__init__` method is automatically called whenever an object of the class is instantiated. You do not explicitly call it like a regular method.\n",
        "- The main role of the constructor is to initialize the instance variables (attributes) of the object. This ensures that when an object is created, it has a defined initial state.\n",
        "- The first parameter of the `__init__` method is always `self`, which refers to the instance of the class itself. This allows you to access and modify the object's attributes within the constructor"
      ],
      "metadata": {
        "id": "tG2uY0PsjFfw"
      }
    },
    {
      "cell_type": "markdown",
      "metadata": {
        "id": "da169399"
      },
      "source": [
        "#### **10. What are class and static methods in Python**"
      ]
    },
    {
      "cell_type": "markdown",
      "source": [
        "- Class method :     \n",
        "    - Bound to the class (but not to particular instance of the class).\n",
        "    - It can access/modify methods and attributes associated to the class accross all the instances.\n",
        "    - It's decorator to use this method is `@classmethod`.\n",
        "    - Instead of `self`, we use `cls` as first parameter.\n",
        "    - Alternative of `init` method\n",
        "\n",
        "\n",
        "\n",
        "---\n",
        "\n",
        "- Static method :    \n",
        "  - It does not access/modify class or instance state\n",
        "  - It behaves like a plain function that belongs to class\n",
        "  - It's decorator to use this method is `@staticmethod`.\n",
        "  - It doesn't take either `self` or `cls` as first paramters.\n",
        "  - It doesn't depend on class/instance , works with parameters passed in it."
      ],
      "metadata": {
        "id": "983tYHxzjvtv"
      }
    },
    {
      "cell_type": "markdown",
      "metadata": {
        "id": "bbfb5553"
      },
      "source": [
        "#### **11. What is method overloading in Python**"
      ]
    },
    {
      "cell_type": "markdown",
      "source": [
        "- Method overloading refers to the ability to define multiple methods within a single class that share the same name but differ in their parameter lists (e.g., number of parameters, types of parameters).\n",
        "- While other languages like Java and C++ directly support method overloading, Python does not have native support for it in the same way due to its dynamic typing.\n",
        "- In method overloading the method which was defined recently(which is latest) will be executed."
      ],
      "metadata": {
        "id": "Gif-zLz6lgTh"
      }
    },
    {
      "cell_type": "markdown",
      "metadata": {
        "id": "e3e95d6a"
      },
      "source": [
        "#### **12. What is method overriding in OOP**"
      ]
    },
    {
      "cell_type": "markdown",
      "source": [
        "- Method overriding, This situation occurs when method in parent class and child class contains same signature/method.\n",
        "- As the child class is powerful/superior, the method which is in the child class will be executed even thought parent class contains the same method which has similar name."
      ],
      "metadata": {
        "id": "1uxfYZsGmczx"
      }
    },
    {
      "cell_type": "markdown",
      "metadata": {
        "id": "485ec126"
      },
      "source": [
        "#### **13. What is a property decorator in Python**"
      ]
    },
    {
      "cell_type": "markdown",
      "source": [
        "- Decorators allows to modify or extend the behaviour of function/class without directly modifying them or their original rules.\n",
        "- Similar to decorating the room with lights, paintings or posters etc.\n",
        "- In this the function decorator takes another function as argument."
      ],
      "metadata": {
        "id": "2U_rKCLunspp"
      }
    },
    {
      "cell_type": "markdown",
      "metadata": {
        "id": "8eea5a6b"
      },
      "source": [
        "#### **14. Why is polymorphism important in OOP**"
      ]
    },
    {
      "cell_type": "markdown",
      "source": [
        "- As we know, Polymorphism in simple terms, means \"having many forms\". In programming, it allows you to treat objects of different classes in a uniform way, making your code more flexible, reusable, and easier to maintain."
      ],
      "metadata": {
        "id": "llNeSRz0ojMp"
      }
    },
    {
      "cell_type": "markdown",
      "metadata": {
        "id": "19eccfe6"
      },
      "source": [
        "#### **15. What is an abstract class in Python**"
      ]
    },
    {
      "cell_type": "markdown",
      "source": [
        "- Abstract class in python is class that may contain methods that are just declared using `pass` but not implemented in itself.\n",
        "- only Subclassess are responsible for implementing these abstract methods/class.\n",
        "- NOTE : abstract class cannot be instantiated and should always be subclassed."
      ],
      "metadata": {
        "id": "LVixaLAFo-ST"
      }
    },
    {
      "cell_type": "markdown",
      "metadata": {
        "id": "35ca417e"
      },
      "source": [
        "#### **16. What are the advantages of OOP**"
      ]
    },
    {
      "cell_type": "markdown",
      "source": [
        "- Code Reusability (Inheritance):\n",
        "Inheritance allows new classes to derive properties and behaviors from existing classes, eliminating redundant code and promoting efficient development.\n",
        "\n",
        "- Flexibility and Extensibility (Polymorphism):\n",
        "Polymorphism enables objects of different classes to be treated as objects of a common type, allowing for flexible and extensible code where a single interface can be used to perform different actions depending on the object's specific type.\n",
        "\n",
        "- Abstraction:\n",
        "OOP allows for hiding complex implementation details and exposing only essential functionalities to the user, simplifying the use of complex systems and promoting a focus on what an object does rather than how it does it.\n",
        "\n",
        "- Improved Maintainability and Scalability:\n",
        "The modular nature of OOP makes it easier to locate and fix errors, update functionalities, and scale applications by adding new features or components without significantly impacting existing code.\n",
        "\n",
        "- Enhanced Security:\n",
        "Encapsulation helps in protecting data by restricting direct access to internal object states, promoting data integrity and security.\n",
        "\n",
        "- Easier Troubleshooting:\n",
        "The independent nature of objects and their encapsulated functionalities simplifies the process of identifying and resolving issues, as problems can often be isolated to specific modules."
      ],
      "metadata": {
        "id": "Dmiortllqn0Z"
      }
    },
    {
      "cell_type": "markdown",
      "metadata": {
        "id": "63de567d"
      },
      "source": [
        "#### **17. What is multiple inheritance in Python**"
      ]
    },
    {
      "cell_type": "markdown",
      "source": [
        "- Multiple inheritance : child inherits multiple parent classes\n",
        "- Below example demonstrates this."
      ],
      "metadata": {
        "id": "1Qr_XRcXrBWN"
      }
    },
    {
      "cell_type": "code",
      "source": [
        "class Parent1: # Parent class 1\n",
        "  def par1_method(self):\n",
        "    print(\"This is parent 1 class\")\n",
        "\n",
        "class Parent2: # Parent class 2\n",
        "  def par2_method(self):\n",
        "    print(\"Thid is parent 2 class\")\n",
        "\n",
        "class Child(Parent1, Parent2): # Child class\n",
        "  def child_method(self):\n",
        "    print(\"This is child class\")"
      ],
      "metadata": {
        "id": "uvnxCApkrIQ1"
      },
      "execution_count": 59,
      "outputs": []
    },
    {
      "cell_type": "code",
      "source": [
        "ob = Child()"
      ],
      "metadata": {
        "id": "mtUby80XrO0R"
      },
      "execution_count": 60,
      "outputs": []
    },
    {
      "cell_type": "code",
      "source": [
        "ob.par1_method()"
      ],
      "metadata": {
        "colab": {
          "base_uri": "https://localhost:8080/"
        },
        "id": "AqYUo78SrR8-",
        "outputId": "dd339e41-eb24-404a-8ac9-c44318377adb"
      },
      "execution_count": 61,
      "outputs": [
        {
          "output_type": "stream",
          "name": "stdout",
          "text": [
            "This is parent 1 class\n"
          ]
        }
      ]
    },
    {
      "cell_type": "code",
      "source": [
        "ob.par2_method()"
      ],
      "metadata": {
        "colab": {
          "base_uri": "https://localhost:8080/"
        },
        "id": "2d5Wbvu9rVAx",
        "outputId": "25b2489d-5345-4e27-94ce-6de303ab6a52"
      },
      "execution_count": 62,
      "outputs": [
        {
          "output_type": "stream",
          "name": "stdout",
          "text": [
            "Thid is parent 2 class\n"
          ]
        }
      ]
    },
    {
      "cell_type": "code",
      "source": [
        "ob.child_method()"
      ],
      "metadata": {
        "colab": {
          "base_uri": "https://localhost:8080/"
        },
        "id": "lrb3i2cTrXx-",
        "outputId": "c655151d-c0f7-4cee-a76c-6cb59aaee8da"
      },
      "execution_count": 63,
      "outputs": [
        {
          "output_type": "stream",
          "name": "stdout",
          "text": [
            "This is child class\n"
          ]
        }
      ]
    },
    {
      "cell_type": "markdown",
      "metadata": {
        "id": "b983080d"
      },
      "source": [
        "#### **18. What is the difference between a class variable and an instance variable**"
      ]
    },
    {
      "cell_type": "markdown",
      "source": [
        "- Class variable :    \n",
        "  - Declared within a class but outside of any method or constructor.\n",
        "  - Can be called in terminal using `objectname.classvariable_name`\n",
        "  - Accessable everywhere in the class and subclasses.\n",
        "\n",
        "\n",
        "---\n",
        "\n",
        "\n",
        "\n",
        "- Instance variable :     \n",
        "  - Declared within a class but inside a method or using a constructor.\n",
        "  - Can be called in the terminal directly like class variable.\n",
        "  - Accessable everywhere in the class and subclasses."
      ],
      "metadata": {
        "id": "R5vN15-HrcHO"
      }
    },
    {
      "cell_type": "markdown",
      "metadata": {
        "id": "6a719003"
      },
      "source": [
        "#### **19. Explain the purpose of `__str__` and `__repr__`  methods in Python**"
      ]
    },
    {
      "cell_type": "markdown",
      "source": [
        "- `__str__` (for \"string\"): This method provides an informal, human-readable string representation of an object. It is designed for end-users and is typically called by functions like print() and str(). The goal of `__str__` is readability and ease of understanding for someone who may not be familiar with the object's internal structure. If `__str__` is not defined for a class, Python will fall back to using `__repr__`.\n",
        "- `__repr__` (for \"representation\"): This method provides a formal, unambiguous string representation of an object. It is intended for developers and is typically called by functions like repr() and when an object is displayed in an interactive interpreter (REPL). The goal of `__repr__` is to be clear and informative, often aiming to provide a string that could be used to recreate the object."
      ],
      "metadata": {
        "id": "8oX21tsNtZiC"
      }
    },
    {
      "cell_type": "markdown",
      "metadata": {
        "id": "31636e84"
      },
      "source": [
        "#### **20. What is the significance of the ‘super()’ function in Python**"
      ]
    },
    {
      "cell_type": "markdown",
      "source": [
        "- Accessing Parent Class Methods:\n",
        "super() allows a subclass to call methods defined in its parent class, even when those methods have been overridden in the subclass. This facilitates code reuse and avoids redundant implementation of similar functionalities.\n",
        "\n",
        "- Proper Initialization in Inheritance:\n",
        "When used within the `__init__` method of a subclass, `super().__init__()` ensures that the parent class's `__init__` method is called, properly initializing attributes inherited from the parent. This is crucial for maintaining a consistent state across the inheritance hierarchy.\n",
        "\n",
        "- Managing Multiple Inheritance:\n",
        "In scenarios involving multiple inheritance, super() plays a vital role in coordinating the initialization and method calls across the various parent classes. It works in conjunction with Python's Method Resolution Order (MRO) to ensure that methods are called in the correct and predictable sequence, preventing issues like duplicate calls or uninitialized parent classes."
      ],
      "metadata": {
        "id": "7gGMvt6-umpT"
      }
    },
    {
      "cell_type": "markdown",
      "metadata": {
        "id": "2bcd10e2"
      },
      "source": [
        "#### **21. What is the significance of the __del__ method in Python**"
      ]
    },
    {
      "cell_type": "markdown",
      "source": [
        "- In Python, variables are essentially names that point to objects in memory. The del statement removes these names (references) from their respective scopes (e.g., local, global, or container like a list or dictionary).\n",
        "- When `del` is used on an object instance (e.g., `del my_object`), it removes the reference `my_object`. If this was the last remaining reference to that object, the object becomes eligible for garbage collection, meaning Python's automatic memory management system can reclaim the memory occupied by that object."
      ],
      "metadata": {
        "id": "4DccEo9pvTdH"
      }
    },
    {
      "cell_type": "markdown",
      "metadata": {
        "id": "c92b4ab7"
      },
      "source": [
        "#### **22. What is the difference between `@staticmethod` and `@classmethod` in Python**"
      ]
    },
    {
      "cell_type": "markdown",
      "source": [
        "- `@classmethod` :     \n",
        "    - Bound to the class (but not to particular instance of the class).\n",
        "    - It can access/modify methods and attributes associated to the class accross all the instances.\n",
        "    - It's written above the method which want it to be a class method.\n",
        "    - Instead of `self`, we use `cls` as first parameter.\n",
        "    - Alternative of `init` method\n",
        "\n",
        "\n",
        "\n",
        "---\n",
        "\n",
        "- `@staticmethod` :    \n",
        "  - It does not access/modify class or instance state\n",
        "  - It behaves like a plain function that belongs to class\n",
        "  - It's written above the method which want it to be a static method.\n",
        "  - It doesn't take either `self` or `cls` as first paramters.\n",
        "  - It doesn't depend on class/instance , works with parameters passed in it."
      ],
      "metadata": {
        "id": "LUDTrQgxwo92"
      }
    },
    {
      "cell_type": "markdown",
      "metadata": {
        "id": "2b2c49b9"
      },
      "source": [
        "#### **23. How does polymorphism work in Python with inheritance**"
      ]
    },
    {
      "cell_type": "markdown",
      "source": [
        "- Polymorphism in Python, when combined with inheritance, allows objects of different classes that share a common base class to be treated uniformly through a shared interface. This is primarily achieved through method overriding. below points explain how it works,\n",
        "\n",
        "\n",
        "---\n",
        "\n",
        "\n",
        "- Inheritance Hierarchy:\n",
        "A base class (parent class) defines a method, and one or more derived classes (child classes) inherit from this base class.\n",
        "- Method Overriding:\n",
        "Child classes can provide their own specific implementation for the method inherited from the parent class. This re-implementation of an inherited method in a child class is known as method overriding. When a method is overridden, the child class's version of the method takes precedence over the parent class's version when called on an object of the child class."
      ],
      "metadata": {
        "id": "uoRI60wGxJIW"
      }
    },
    {
      "cell_type": "markdown",
      "metadata": {
        "id": "14d19a22"
      },
      "source": [
        "#### **24. What is method chaining in Python OOP**"
      ]
    },
    {
      "cell_type": "markdown",
      "source": [
        "- Method chaining in Python Object-Oriented Programming (OOP) is a technique that allows for the sequential invocation of multiple methods on the same object within a single line of code. This is achieved by having each method in the chain return the object itself (typically self) after performing its action.\n",
        "- The fundamental requirement for method chaining is that each method intended to be part of a chain must return the instance of the object (self) on which it was called. This allows the next method in the chain to be invoked directly on the returned object."
      ],
      "metadata": {
        "id": "sM82T353x6C3"
      }
    },
    {
      "cell_type": "markdown",
      "metadata": {
        "id": "84ea645a"
      },
      "source": [
        "#### **25. What is the purpose of the __call__ method in Python**"
      ]
    },
    {
      "cell_type": "markdown",
      "source": [
        "- In Python's object-oriented programming, the `__call__` method, also known as a \"dunder\" or \"magic\" method, serves the purpose of making instances of a class callable. This means that an object created from a class that defines `__call__` can be invoked or used like a regular function.\n",
        "- When an instance of a class with a defined `__call__` method is \"called\" using parentheses, like `instance()`, the `__call__` method of that instance is automatically executed."
      ],
      "metadata": {
        "id": "igp_ah2qyWKF"
      }
    },
    {
      "cell_type": "markdown",
      "source": [
        "## PRACTICAL QUESTIONS"
      ],
      "metadata": {
        "id": "B6XpOyiI0ejh"
      }
    },
    {
      "cell_type": "markdown",
      "metadata": {
        "id": "5ebdd6d4"
      },
      "source": [
        "#### **1. Create a parent class Animal with a method speak() that prints a generic message. Create a child class Dog that overrides the speak() method to print \"Bark!\".**"
      ]
    },
    {
      "cell_type": "code",
      "metadata": {
        "id": "89f84909"
      },
      "source": [
        "class Animal:\n",
        "  def speak(self):\n",
        "    print(\"Speaking\")\n",
        "\n",
        "class Dog(Animal):\n",
        "  def speak(self):\n",
        "    print(\"Bark!\")"
      ],
      "execution_count": 64,
      "outputs": []
    },
    {
      "cell_type": "code",
      "source": [
        "a = Dog()"
      ],
      "metadata": {
        "id": "K8JkDs2e1a46"
      },
      "execution_count": 65,
      "outputs": []
    },
    {
      "cell_type": "code",
      "source": [
        "a.speak()"
      ],
      "metadata": {
        "colab": {
          "base_uri": "https://localhost:8080/"
        },
        "id": "odesqGhJ1gdc",
        "outputId": "ba69ba43-6c8a-4ab5-9a42-123e065738a0"
      },
      "execution_count": 66,
      "outputs": [
        {
          "output_type": "stream",
          "name": "stdout",
          "text": [
            "Bark!\n"
          ]
        }
      ]
    },
    {
      "cell_type": "markdown",
      "metadata": {
        "id": "8f5433c8"
      },
      "source": [
        "#### **2. Write a program to create an abstract class Shape with a method area(). Derive classes Circle and Rectangle from it and implement the area() method in both.**"
      ]
    },
    {
      "cell_type": "code",
      "metadata": {
        "id": "c3cd01c4"
      },
      "source": [
        "from abc import ABC, abstractmethod\n",
        "\n",
        "class Shape(ABC):\n",
        "  @abstractmethod\n",
        "  def area():\n",
        "    pass\n",
        "\n",
        "class Circle(Shape):\n",
        "  def area(self,radius):\n",
        "    return 3.14*radius*radius\n",
        "\n",
        "class Rectangle(Shape):\n",
        "  def area(self,length,width):\n",
        "    return length*width"
      ],
      "execution_count": 196,
      "outputs": []
    },
    {
      "cell_type": "code",
      "source": [
        "circle = Circle()"
      ],
      "metadata": {
        "id": "P4HwJ4ak2ci3"
      },
      "execution_count": 197,
      "outputs": []
    },
    {
      "cell_type": "code",
      "source": [
        "circle.area(5)"
      ],
      "metadata": {
        "colab": {
          "base_uri": "https://localhost:8080/"
        },
        "id": "Qjrm-Zbf2uT9",
        "outputId": "d1f0b9d5-2ee1-42d2-d21f-8691f523b39b"
      },
      "execution_count": 198,
      "outputs": [
        {
          "output_type": "execute_result",
          "data": {
            "text/plain": [
              "78.5"
            ]
          },
          "metadata": {},
          "execution_count": 198
        }
      ]
    },
    {
      "cell_type": "code",
      "source": [
        "rectangle = Rectangle()"
      ],
      "metadata": {
        "id": "fKgnf7u220f2"
      },
      "execution_count": 199,
      "outputs": []
    },
    {
      "cell_type": "code",
      "source": [
        "rectangle.area(4,3)"
      ],
      "metadata": {
        "colab": {
          "base_uri": "https://localhost:8080/"
        },
        "id": "yQznsM2E26V0",
        "outputId": "4f758d8f-fffa-411d-83f9-522f74a008cc"
      },
      "execution_count": 200,
      "outputs": [
        {
          "output_type": "execute_result",
          "data": {
            "text/plain": [
              "12"
            ]
          },
          "metadata": {},
          "execution_count": 200
        }
      ]
    },
    {
      "cell_type": "markdown",
      "metadata": {
        "id": "f71ccc60"
      },
      "source": [
        "#### **3. Implement a multi-level inheritance scenario where a class Vehicle has an attribute type. Derive a class Car and further derive a class ElectricCar that adds a battery attribute.**"
      ]
    },
    {
      "cell_type": "code",
      "metadata": {
        "id": "b35fb8d0"
      },
      "source": [
        "class Vehicle:\n",
        "  def __init__(self,type):\n",
        "    self.type = type\n",
        "\n",
        "class Car(Vehicle):\n",
        "  def __init__(self,type,model):\n",
        "    super().__init__(type)\n",
        "    self.model = model\n",
        "\n",
        "class ElectricCar(Car):\n",
        "  def __init__(self,type,model,battery):\n",
        "    super().__init__(type,model)\n",
        "    self.battery = battery"
      ],
      "execution_count": 74,
      "outputs": []
    },
    {
      "cell_type": "code",
      "source": [
        "V1 = Vehicle(\"Car\")"
      ],
      "metadata": {
        "id": "k33nLe5u3gYz"
      },
      "execution_count": 75,
      "outputs": []
    },
    {
      "cell_type": "code",
      "source": [
        "C1 = Car(\"Car\",\"Toyota\")"
      ],
      "metadata": {
        "id": "78OhYsfQ3lnz"
      },
      "execution_count": 76,
      "outputs": []
    },
    {
      "cell_type": "code",
      "source": [
        "EC1 = ElectricCar(\"Car\",\"Toyota\",\"5000\")"
      ],
      "metadata": {
        "id": "1kH8_jQv3o1q"
      },
      "execution_count": 77,
      "outputs": []
    },
    {
      "cell_type": "markdown",
      "metadata": {
        "id": "b1e421f5"
      },
      "source": [
        "#### **4. Demonstrate polymorphism by creating a base class Bird with a method fly(). Create two derived classes Sparrow and Penguin that override the fly() method.**"
      ]
    },
    {
      "cell_type": "code",
      "metadata": {
        "id": "e6fb02f6"
      },
      "source": [
        "class Bird:\n",
        "  def fly(self):\n",
        "    print(\"Flying\")\n",
        "\n",
        "class Sparrow(Bird):\n",
        "  def fly(self):\n",
        "    print(\"Flying with wings\")\n",
        "\n",
        "class Penguin(Bird):\n",
        "  def fly(self):\n",
        "    print(\"Can't fly\")\n"
      ],
      "execution_count": 78,
      "outputs": []
    },
    {
      "cell_type": "code",
      "source": [
        "B1 = Bird()"
      ],
      "metadata": {
        "id": "KOBcZezQ39Xw"
      },
      "execution_count": 79,
      "outputs": []
    },
    {
      "cell_type": "code",
      "source": [
        "B1.fly()"
      ],
      "metadata": {
        "colab": {
          "base_uri": "https://localhost:8080/"
        },
        "id": "584WAgFZ4Bjv",
        "outputId": "da6b02b5-93d8-4f78-bd04-244d5b0af96a"
      },
      "execution_count": 80,
      "outputs": [
        {
          "output_type": "stream",
          "name": "stdout",
          "text": [
            "Flying\n"
          ]
        }
      ]
    },
    {
      "cell_type": "code",
      "source": [
        "S1 = Sparrow()"
      ],
      "metadata": {
        "id": "Ga1Vk5604D6M"
      },
      "execution_count": 81,
      "outputs": []
    },
    {
      "cell_type": "code",
      "source": [
        "S1.fly()"
      ],
      "metadata": {
        "colab": {
          "base_uri": "https://localhost:8080/"
        },
        "id": "dWCiHY1-4G2Y",
        "outputId": "a92cda29-6a95-4bdd-f9bd-dae62a0c7f25"
      },
      "execution_count": 82,
      "outputs": [
        {
          "output_type": "stream",
          "name": "stdout",
          "text": [
            "Flying with wings\n"
          ]
        }
      ]
    },
    {
      "cell_type": "code",
      "source": [
        "P1 = Penguin()"
      ],
      "metadata": {
        "id": "WOPqvHOC4Nm6"
      },
      "execution_count": 83,
      "outputs": []
    },
    {
      "cell_type": "code",
      "source": [
        "P1.fly()"
      ],
      "metadata": {
        "colab": {
          "base_uri": "https://localhost:8080/"
        },
        "id": "VaveI0bU4KNu",
        "outputId": "99af1719-3ab0-42c6-ef44-ab9fc7ebf846"
      },
      "execution_count": 84,
      "outputs": [
        {
          "output_type": "stream",
          "name": "stdout",
          "text": [
            "Can't fly\n"
          ]
        }
      ]
    },
    {
      "cell_type": "markdown",
      "metadata": {
        "id": "0cc38ad5"
      },
      "source": [
        "#### **5. Write a program to demonstrate encapsulation by creating a class BankAccount with private attributes balance and methods to deposit, withdraw, and check balance.**"
      ]
    },
    {
      "cell_type": "code",
      "metadata": {
        "id": "0e68e536"
      },
      "source": [
        "class BankAccount:\n",
        "  def __init__(self,balance):\n",
        "    self.__balance = balance\n",
        "\n",
        "  def deposit(self,amount):\n",
        "    self.__balance += amount\n",
        "\n",
        "  def withdraw(self,amount):\n",
        "    if self.__balance >= amount:\n",
        "      self.__balance -= amount\n",
        "    else:\n",
        "      print(\"Insufficient balance\")\n",
        "\n",
        "  def check_balance(self):\n",
        "    return self.__balance"
      ],
      "execution_count": 85,
      "outputs": []
    },
    {
      "cell_type": "code",
      "source": [
        "B1 = BankAccount(2000)"
      ],
      "metadata": {
        "id": "mOLpYxma4rh1"
      },
      "execution_count": 86,
      "outputs": []
    },
    {
      "cell_type": "code",
      "source": [
        "B1.deposit(500)"
      ],
      "metadata": {
        "id": "TILfm3v94xa5"
      },
      "execution_count": 87,
      "outputs": []
    },
    {
      "cell_type": "code",
      "source": [
        "B1.withdraw(3000)"
      ],
      "metadata": {
        "colab": {
          "base_uri": "https://localhost:8080/"
        },
        "id": "Ni8d0k8p43S8",
        "outputId": "c343ec4e-46dd-47cf-f502-6d838b1d85a4"
      },
      "execution_count": 88,
      "outputs": [
        {
          "output_type": "stream",
          "name": "stdout",
          "text": [
            "Insufficient balance\n"
          ]
        }
      ]
    },
    {
      "cell_type": "code",
      "source": [
        "B1.withdraw(1000)"
      ],
      "metadata": {
        "id": "2i3AuZqZ47j2"
      },
      "execution_count": 89,
      "outputs": []
    },
    {
      "cell_type": "code",
      "source": [
        "B1.check_balance()"
      ],
      "metadata": {
        "colab": {
          "base_uri": "https://localhost:8080/"
        },
        "id": "0zyfuAPm4-dO",
        "outputId": "19efb04d-fd1c-45ba-c811-8a587c37eea9"
      },
      "execution_count": 90,
      "outputs": [
        {
          "output_type": "execute_result",
          "data": {
            "text/plain": [
              "1500"
            ]
          },
          "metadata": {},
          "execution_count": 90
        }
      ]
    },
    {
      "cell_type": "markdown",
      "metadata": {
        "id": "dfd11584"
      },
      "source": [
        "#### **6. Demonstrate runtime polymorphism using a method play() in a base class Instrument. Derive classes Guitar and Piano that implement their own version of play().**"
      ]
    },
    {
      "cell_type": "code",
      "metadata": {
        "id": "d7a4e74d"
      },
      "source": [
        "class Instrument:\n",
        "  def play(self):\n",
        "    print(\"Playing\")\n",
        "\n",
        "class Guitar(Instrument):\n",
        "  def play(self):\n",
        "    print(\"Playing Guitar\")\n",
        "\n",
        "class Piano(Instrument):\n",
        "  def play(self):\n",
        "    print(\"Playing Piano\")"
      ],
      "execution_count": 91,
      "outputs": []
    },
    {
      "cell_type": "code",
      "source": [
        "I1 = Instrument()"
      ],
      "metadata": {
        "id": "7vuzOwLn5Ltb"
      },
      "execution_count": 92,
      "outputs": []
    },
    {
      "cell_type": "code",
      "source": [
        "I1.play()"
      ],
      "metadata": {
        "colab": {
          "base_uri": "https://localhost:8080/"
        },
        "id": "E-QvcHah5TZd",
        "outputId": "fb963f5c-ee4c-4950-8d02-e1766daac40a"
      },
      "execution_count": 93,
      "outputs": [
        {
          "output_type": "stream",
          "name": "stdout",
          "text": [
            "Playing\n"
          ]
        }
      ]
    },
    {
      "cell_type": "code",
      "source": [
        "G1 = Guitar()"
      ],
      "metadata": {
        "id": "DAT9N1Gx5WCl"
      },
      "execution_count": 94,
      "outputs": []
    },
    {
      "cell_type": "code",
      "source": [
        "G1.play()"
      ],
      "metadata": {
        "colab": {
          "base_uri": "https://localhost:8080/"
        },
        "id": "BBbI1B9Z5YY_",
        "outputId": "a02be6b4-4902-42ee-f28a-0149bea222b3"
      },
      "execution_count": 95,
      "outputs": [
        {
          "output_type": "stream",
          "name": "stdout",
          "text": [
            "Playing Guitar\n"
          ]
        }
      ]
    },
    {
      "cell_type": "code",
      "source": [
        "P1 = Piano()"
      ],
      "metadata": {
        "id": "5Dsi4C8P5aWS"
      },
      "execution_count": 96,
      "outputs": []
    },
    {
      "cell_type": "code",
      "source": [
        "P1.play()"
      ],
      "metadata": {
        "colab": {
          "base_uri": "https://localhost:8080/"
        },
        "id": "JEYPxkk25eMT",
        "outputId": "77fdd1bd-6d8d-438d-dfdb-7e4b992a5283"
      },
      "execution_count": 97,
      "outputs": [
        {
          "output_type": "stream",
          "name": "stdout",
          "text": [
            "Playing Piano\n"
          ]
        }
      ]
    },
    {
      "cell_type": "markdown",
      "metadata": {
        "id": "3c608bd8"
      },
      "source": [
        "#### **7. Create a class MathOperations with a class method add_numbers() to add two numbers and a static method subtract_numbers() to subtract two numbers.**"
      ]
    },
    {
      "cell_type": "code",
      "metadata": {
        "id": "a80a975c"
      },
      "source": [
        "class MathOperations:\n",
        "  @classmethod\n",
        "  def add_numbers(cls,a,b):\n",
        "    return a+b\n",
        "\n",
        "  @staticmethod\n",
        "  def subtract_numbers(a,b):\n",
        "    return a-b"
      ],
      "execution_count": 98,
      "outputs": []
    },
    {
      "cell_type": "code",
      "source": [
        "Math = MathOperations()"
      ],
      "metadata": {
        "id": "amEqawJM6ARM"
      },
      "execution_count": 99,
      "outputs": []
    },
    {
      "cell_type": "code",
      "source": [
        "Math.add_numbers(4,5)"
      ],
      "metadata": {
        "colab": {
          "base_uri": "https://localhost:8080/"
        },
        "id": "ZO822bMT6FBe",
        "outputId": "84ada61e-d290-4d93-b9a4-c4575f4ff67e"
      },
      "execution_count": 100,
      "outputs": [
        {
          "output_type": "execute_result",
          "data": {
            "text/plain": [
              "9"
            ]
          },
          "metadata": {},
          "execution_count": 100
        }
      ]
    },
    {
      "cell_type": "code",
      "source": [
        "MathOperations.subtract_numbers(4,5)"
      ],
      "metadata": {
        "colab": {
          "base_uri": "https://localhost:8080/"
        },
        "id": "4Sv5vh5W6IFV",
        "outputId": "c6a7336b-443c-40b5-db0b-71e21ab629d2"
      },
      "execution_count": 102,
      "outputs": [
        {
          "output_type": "execute_result",
          "data": {
            "text/plain": [
              "-1"
            ]
          },
          "metadata": {},
          "execution_count": 102
        }
      ]
    },
    {
      "cell_type": "markdown",
      "metadata": {
        "id": "a31073f3"
      },
      "source": [
        "#### **8. Implement a class Person with a class method to count the total number of persons created.**"
      ]
    },
    {
      "cell_type": "code",
      "metadata": {
        "id": "c832453f"
      },
      "source": [
        "class Person:\n",
        "  count = 0\n",
        "  def __init__(self,name,age):\n",
        "    self.name = name\n",
        "    self.age = age\n",
        "    Person.count += 1\n",
        "\n",
        "  @classmethod\n",
        "  def total_persons(cls):\n",
        "    return cls.count"
      ],
      "execution_count": 103,
      "outputs": []
    },
    {
      "cell_type": "code",
      "source": [
        "P1 = Person(\"John\",20)"
      ],
      "metadata": {
        "id": "pi9w-tNK75j7"
      },
      "execution_count": 104,
      "outputs": []
    },
    {
      "cell_type": "code",
      "source": [
        "P2 = Person(\"Jack\",25)"
      ],
      "metadata": {
        "id": "dkA50iYE78Yt"
      },
      "execution_count": 105,
      "outputs": []
    },
    {
      "cell_type": "code",
      "source": [
        "Person.total_persons()"
      ],
      "metadata": {
        "colab": {
          "base_uri": "https://localhost:8080/"
        },
        "id": "V_TbB4Fh8Bpe",
        "outputId": "ee788b3d-ad02-4bc6-bcb4-7bc787122e11"
      },
      "execution_count": 106,
      "outputs": [
        {
          "output_type": "execute_result",
          "data": {
            "text/plain": [
              "2"
            ]
          },
          "metadata": {},
          "execution_count": 106
        }
      ]
    },
    {
      "cell_type": "markdown",
      "metadata": {
        "id": "ab326c40"
      },
      "source": [
        "#### **9. Write a class Fraction with attributes numerator and denominator. Override the str method to display the fraction as \"numerator/denominator\".**"
      ]
    },
    {
      "cell_type": "code",
      "metadata": {
        "id": "7705f95c"
      },
      "source": [
        "class Fraction:\n",
        "  def __init__(self,numerator,denominator):\n",
        "    self.numerator = numerator\n",
        "    self.denominator = denominator\n",
        "\n",
        "  def __str__(self):\n",
        "    return f\"{self.numerator}/{self.denominator}\""
      ],
      "execution_count": 108,
      "outputs": []
    },
    {
      "cell_type": "code",
      "source": [
        "F1 = Fraction(4,5)"
      ],
      "metadata": {
        "id": "BZQIFrqh8NfY"
      },
      "execution_count": 109,
      "outputs": []
    },
    {
      "cell_type": "code",
      "source": [
        "F1.__str__()"
      ],
      "metadata": {
        "colab": {
          "base_uri": "https://localhost:8080/",
          "height": 35
        },
        "id": "zGZykTRf8Qvu",
        "outputId": "5e6390c5-f9f1-4cfb-812a-a19670975505"
      },
      "execution_count": 111,
      "outputs": [
        {
          "output_type": "execute_result",
          "data": {
            "text/plain": [
              "'4/5'"
            ],
            "application/vnd.google.colaboratory.intrinsic+json": {
              "type": "string"
            }
          },
          "metadata": {},
          "execution_count": 111
        }
      ]
    },
    {
      "cell_type": "code",
      "source": [
        "F1.denominator"
      ],
      "metadata": {
        "colab": {
          "base_uri": "https://localhost:8080/"
        },
        "id": "DPuLh3CX8t2M",
        "outputId": "5744d1e9-4994-4439-ca3f-8678f16bbca9"
      },
      "execution_count": 112,
      "outputs": [
        {
          "output_type": "execute_result",
          "data": {
            "text/plain": [
              "5"
            ]
          },
          "metadata": {},
          "execution_count": 112
        }
      ]
    },
    {
      "cell_type": "markdown",
      "metadata": {
        "id": "be15c425"
      },
      "source": [
        "#### **10. Demonstrate operator overloading by creating a class Vector and overriding the add method to add two vectors.**"
      ]
    },
    {
      "cell_type": "code",
      "metadata": {
        "id": "3c59926b"
      },
      "source": [
        "class Vector:\n",
        "  def __init__(self,x,y):\n",
        "    self.x = x\n",
        "    self.y = y\n",
        "\n",
        "  def __add__(self,other):\n",
        "    return Vector(self.x+other.x,self.y+other.y)"
      ],
      "execution_count": 113,
      "outputs": []
    },
    {
      "cell_type": "code",
      "source": [
        "V1 = Vector(\"a\",\"b\")"
      ],
      "metadata": {
        "id": "sx0xLAMj8_G8"
      },
      "execution_count": 117,
      "outputs": []
    },
    {
      "cell_type": "code",
      "source": [
        "V2 = Vector(\"c\",\"d\")"
      ],
      "metadata": {
        "id": "004uy1P--jBA"
      },
      "execution_count": 131,
      "outputs": []
    },
    {
      "cell_type": "code",
      "source": [
        "V1.__add__(V2)"
      ],
      "metadata": {
        "colab": {
          "base_uri": "https://localhost:8080/"
        },
        "id": "OYby9IlF9VtF",
        "outputId": "d5e2d5b6-c3b1-4932-821b-edc25a361bed"
      },
      "execution_count": 133,
      "outputs": [
        {
          "output_type": "execute_result",
          "data": {
            "text/plain": [
              "<__main__.Vector at 0x799dbe850690>"
            ]
          },
          "metadata": {},
          "execution_count": 133
        }
      ]
    },
    {
      "cell_type": "markdown",
      "metadata": {
        "id": "fa814bc0"
      },
      "source": [
        "#### **11. Create a class Person with attributes name and age. Add a method greet() that prints \"Hello, my name is {name} and I am {age} years old.\"**"
      ]
    },
    {
      "cell_type": "code",
      "metadata": {
        "id": "f0e58a02"
      },
      "source": [
        "class Person:\n",
        "  def __init__(self,name,age):\n",
        "    self.name = name\n",
        "    self.age = age\n",
        "\n",
        "  def greet(self):\n",
        "    print(f\"Hello, my name is {self.name} and I am {self.age} years old.\")"
      ],
      "execution_count": 135,
      "outputs": []
    },
    {
      "cell_type": "code",
      "source": [
        "P1 = Person(\"John\",20)"
      ],
      "metadata": {
        "id": "LxKhFRXx-9Jw"
      },
      "execution_count": 136,
      "outputs": []
    },
    {
      "cell_type": "code",
      "source": [
        "P1.greet()"
      ],
      "metadata": {
        "colab": {
          "base_uri": "https://localhost:8080/"
        },
        "id": "hs-AjTU4-_P0",
        "outputId": "22d18e79-f680-4f3c-ff16-33bd94c4c4e0"
      },
      "execution_count": 137,
      "outputs": [
        {
          "output_type": "stream",
          "name": "stdout",
          "text": [
            "Hello, my name is John and I am 20 years old.\n"
          ]
        }
      ]
    },
    {
      "cell_type": "markdown",
      "metadata": {
        "id": "a3b4edff"
      },
      "source": [
        "#### **12. Implement a class Student with attributes name and grades. Create a method average_grade() to compute the average of the grades.**"
      ]
    },
    {
      "cell_type": "code",
      "metadata": {
        "id": "69ba76ea"
      },
      "source": [
        "class Student:\n",
        "  def __init__(self,name,grades):\n",
        "    self.name = name\n",
        "    self.grades = grades\n",
        "\n",
        "  def average_grade(self):\n",
        "    return sum(self.grades)/len(self.grades)"
      ],
      "execution_count": 138,
      "outputs": []
    },
    {
      "cell_type": "code",
      "source": [
        "S1 = Student(\"John\",[90,80,70])"
      ],
      "metadata": {
        "id": "0u7GHPL9_XmJ"
      },
      "execution_count": 139,
      "outputs": []
    },
    {
      "cell_type": "code",
      "source": [
        "S1.average_grade()"
      ],
      "metadata": {
        "colab": {
          "base_uri": "https://localhost:8080/"
        },
        "id": "tJUnsze0_cNG",
        "outputId": "2aa520f6-f423-48e6-8c1e-5ddfa1c195ce"
      },
      "execution_count": 140,
      "outputs": [
        {
          "output_type": "execute_result",
          "data": {
            "text/plain": [
              "80.0"
            ]
          },
          "metadata": {},
          "execution_count": 140
        }
      ]
    },
    {
      "cell_type": "markdown",
      "metadata": {
        "id": "53e4ed7f"
      },
      "source": [
        "#### **13. Create a class Rectangle with methods set_dimensions() to set the dimensions and area() to calculate the area.**"
      ]
    },
    {
      "cell_type": "code",
      "metadata": {
        "id": "ab0bfa80"
      },
      "source": [
        "class Rectangele:\n",
        "  def set_dimensions(self,length,width):\n",
        "    self.length = length\n",
        "    self.width = width\n",
        "\n",
        "  def area(self):\n",
        "    return self.length*self.width"
      ],
      "execution_count": 141,
      "outputs": []
    },
    {
      "cell_type": "code",
      "source": [
        "R1 = Rectangele()"
      ],
      "metadata": {
        "id": "DSB0HRDh_oGq"
      },
      "execution_count": 142,
      "outputs": []
    },
    {
      "cell_type": "code",
      "source": [
        "R1.set_dimensions(4,5)"
      ],
      "metadata": {
        "id": "2-ehB_jj_qTF"
      },
      "execution_count": 143,
      "outputs": []
    },
    {
      "cell_type": "code",
      "source": [
        "R1.area()"
      ],
      "metadata": {
        "colab": {
          "base_uri": "https://localhost:8080/"
        },
        "id": "MwFJX6BG_sp-",
        "outputId": "4580fc95-61d7-4f1c-b216-1c2386db52be"
      },
      "execution_count": 144,
      "outputs": [
        {
          "output_type": "execute_result",
          "data": {
            "text/plain": [
              "20"
            ]
          },
          "metadata": {},
          "execution_count": 144
        }
      ]
    },
    {
      "cell_type": "markdown",
      "metadata": {
        "id": "4f83b2fc"
      },
      "source": [
        "#### **14. Create a class Employee with a method calculate_salary() that computes the salary based on hours worked and hourly rate. Create a derived class Manager that adds a bonus to the salary.**"
      ]
    },
    {
      "cell_type": "code",
      "metadata": {
        "id": "393d9b2a"
      },
      "source": [
        "class Employee:\n",
        "  def calculate_salary(self, hours_worked, hourly_rate):\n",
        "    self.hours_worked = hours_worked\n",
        "    self.hourly_rate = hourly_rate\n",
        "    return self.hours_worked * self.hourly_rate\n",
        "\n",
        "class Manager(Employee):\n",
        "  def calculate_salary(self, hours_worked, hourly_rate, bonus):\n",
        "    return hours_worked*hourly_rate + bonus"
      ],
      "execution_count": 170,
      "outputs": []
    },
    {
      "cell_type": "code",
      "source": [
        "E1 = Employee()"
      ],
      "metadata": {
        "id": "Mny6nQvBAetW"
      },
      "execution_count": 171,
      "outputs": []
    },
    {
      "cell_type": "code",
      "source": [
        "E1.calculate_salary(40,2000)"
      ],
      "metadata": {
        "colab": {
          "base_uri": "https://localhost:8080/"
        },
        "id": "LkpI-LU1AvyW",
        "outputId": "3e6eeb24-708e-443d-ad3a-bb6a244e25df"
      },
      "execution_count": 172,
      "outputs": [
        {
          "output_type": "execute_result",
          "data": {
            "text/plain": [
              "80000"
            ]
          },
          "metadata": {},
          "execution_count": 172
        }
      ]
    },
    {
      "cell_type": "code",
      "source": [
        "M1 = Manager()"
      ],
      "metadata": {
        "id": "k-8SF8FbA2fn"
      },
      "execution_count": 173,
      "outputs": []
    },
    {
      "cell_type": "code",
      "source": [
        "M1.calculate_salary(40,2000,5000)"
      ],
      "metadata": {
        "colab": {
          "base_uri": "https://localhost:8080/"
        },
        "id": "EOFvozKBA8NR",
        "outputId": "4e10d27a-9afd-4b9f-cc75-ee1eaf15331e"
      },
      "execution_count": 175,
      "outputs": [
        {
          "output_type": "execute_result",
          "data": {
            "text/plain": [
              "85000"
            ]
          },
          "metadata": {},
          "execution_count": 175
        }
      ]
    },
    {
      "cell_type": "markdown",
      "metadata": {
        "id": "81b5a942"
      },
      "source": [
        "#### **15. Create a class Product with attributes name, price, and quantity. Implement a method total_price() that calculates the total price of the product.**"
      ]
    },
    {
      "cell_type": "code",
      "metadata": {
        "id": "c59eb4cf"
      },
      "source": [
        "class Product:\n",
        "  def __init__(self,name,price,quantity):\n",
        "    self.name = name\n",
        "    self.price = price\n",
        "    self.quantity = quantity\n",
        "\n",
        "  def total_price(self):\n",
        "    return self.price*self.quantity"
      ],
      "execution_count": 176,
      "outputs": []
    },
    {
      "cell_type": "code",
      "source": [
        "P1 = Product(\"Pen\",10,5)"
      ],
      "metadata": {
        "id": "T8vN4oSxDC5L"
      },
      "execution_count": 177,
      "outputs": []
    },
    {
      "cell_type": "code",
      "source": [
        "P1.total_price()"
      ],
      "metadata": {
        "colab": {
          "base_uri": "https://localhost:8080/"
        },
        "id": "6SJA8lmnDF6O",
        "outputId": "9080b46e-91b2-4558-b155-2b0fe4686bfb"
      },
      "execution_count": 178,
      "outputs": [
        {
          "output_type": "execute_result",
          "data": {
            "text/plain": [
              "50"
            ]
          },
          "metadata": {},
          "execution_count": 178
        }
      ]
    },
    {
      "cell_type": "markdown",
      "metadata": {
        "id": "079b4430"
      },
      "source": [
        "#### **16. Create a class Animal with an abstract method sound(). Create two derived classes Cow and Sheep that implement the sound() method.**"
      ]
    },
    {
      "cell_type": "code",
      "metadata": {
        "id": "261f23a3"
      },
      "source": [
        "from abc import ABC, abstractmethod\n",
        "class Animal(ABC):\n",
        "  @abstractmethod\n",
        "  def sound(self):\n",
        "    pass\n",
        "\n",
        "class Cow(Animal):\n",
        "  def sound(self):\n",
        "    print(\"Moo\")\n",
        "\n",
        "class Sheep(Animal):\n",
        "  def sound(self):\n",
        "    print(\"Baa\")"
      ],
      "execution_count": 179,
      "outputs": []
    },
    {
      "cell_type": "code",
      "source": [
        "C1 = Cow()\n",
        "S1 = Sheep()"
      ],
      "metadata": {
        "id": "moPeKlzCDO5-"
      },
      "execution_count": 182,
      "outputs": []
    },
    {
      "cell_type": "code",
      "source": [
        "C1.sound()\n",
        "S1.sound()"
      ],
      "metadata": {
        "colab": {
          "base_uri": "https://localhost:8080/"
        },
        "id": "oZzNx4unDeiH",
        "outputId": "26bf04d5-bd0b-4af8-8029-d3f79662d68e"
      },
      "execution_count": 183,
      "outputs": [
        {
          "output_type": "stream",
          "name": "stdout",
          "text": [
            "Moo\n",
            "Baa\n"
          ]
        }
      ]
    },
    {
      "cell_type": "markdown",
      "metadata": {
        "id": "0041281b"
      },
      "source": [
        "#### **17. Create a class Book with attributes title, author, and year_published. Add a method get_book_info() that returns a formatted string with the book's details.**"
      ]
    },
    {
      "cell_type": "code",
      "metadata": {
        "id": "1a14e381"
      },
      "source": [
        "class Book:\n",
        "  def __init__(self,title,author,year_published):\n",
        "    self.title = title\n",
        "    self.author = author\n",
        "    self.year_published = year_published\n",
        "\n",
        "  def get_book_info(self):\n",
        "    print(f\"Title: {self.title}\\nAuthor: {self.author}\\nYear Published: {self.year_published}\")"
      ],
      "execution_count": 190,
      "outputs": []
    },
    {
      "cell_type": "code",
      "source": [
        "B1 = Book(\"The Alchemist\",\"Paulo Coelho\",1988)"
      ],
      "metadata": {
        "id": "D4newZnvDsrX"
      },
      "execution_count": 191,
      "outputs": []
    },
    {
      "cell_type": "code",
      "source": [
        "B1.get_book_info()"
      ],
      "metadata": {
        "colab": {
          "base_uri": "https://localhost:8080/"
        },
        "id": "hC5hkMeLDv63",
        "outputId": "67a03249-67ff-4cd9-8012-521e58d08965"
      },
      "execution_count": 192,
      "outputs": [
        {
          "output_type": "stream",
          "name": "stdout",
          "text": [
            "Title: The Alchemist\n",
            "Author: Paulo Coelho\n",
            "Year Published: 1988\n"
          ]
        }
      ]
    },
    {
      "cell_type": "markdown",
      "metadata": {
        "id": "2bff7140"
      },
      "source": [
        "#### **18. Create a class House with attributes address and price. Create a derived class Mansion that adds an attribute number_of_rooms.**"
      ]
    },
    {
      "cell_type": "code",
      "metadata": {
        "id": "be3b3a3f"
      },
      "source": [
        "class House:\n",
        "  def __init__(self,address,price):\n",
        "    self.address = address\n",
        "    self.price = price\n",
        "\n",
        "class Mansion(House):\n",
        "  def __init__(self,address,price,number_of_rooms):\n",
        "    super().__init__(address,price)"
      ],
      "execution_count": 193,
      "outputs": []
    },
    {
      "cell_type": "code",
      "source": [
        "H1 = House(\"123 Main St\",1000000)"
      ],
      "metadata": {
        "id": "G90Uch9xEJ4c"
      },
      "execution_count": 194,
      "outputs": []
    },
    {
      "cell_type": "code",
      "source": [
        "M1 = Mansion(\"123 Main St\",1000000,10)"
      ],
      "metadata": {
        "id": "byyb48c6EMmu"
      },
      "execution_count": 195,
      "outputs": []
    }
  ]
}